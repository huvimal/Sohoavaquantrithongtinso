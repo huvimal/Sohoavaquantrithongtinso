{
  "nbformat": 4,
  "nbformat_minor": 0,
  "metadata": {
    "colab": {
      "provenance": [],
      "gpuType": "T4"
    },
    "kernelspec": {
      "name": "python3",
      "display_name": "Python 3"
    },
    "language_info": {
      "name": "python"
    },
    "accelerator": "GPU"
  },
  "cells": [
    {
      "cell_type": "code",
      "execution_count": 2,
      "metadata": {
        "colab": {
          "base_uri": "https://localhost:8080/"
        },
        "id": "n7otX6aJ13wT",
        "outputId": "6a7e1f9c-b32a-4a52-dae6-cc52578ee69d"
      },
      "outputs": [
        {
          "output_type": "stream",
          "name": "stdout",
          "text": [
            "Requirement already satisfied: torch in /usr/local/lib/python3.11/dist-packages (2.6.0+cu124)\n",
            "Requirement already satisfied: filelock in /usr/local/lib/python3.11/dist-packages (from torch) (3.17.0)\n",
            "Requirement already satisfied: typing-extensions>=4.10.0 in /usr/local/lib/python3.11/dist-packages (from torch) (4.12.2)\n",
            "Requirement already satisfied: networkx in /usr/local/lib/python3.11/dist-packages (from torch) (3.4.2)\n",
            "Requirement already satisfied: jinja2 in /usr/local/lib/python3.11/dist-packages (from torch) (3.1.6)\n",
            "Requirement already satisfied: fsspec in /usr/local/lib/python3.11/dist-packages (from torch) (2024.10.0)\n",
            "Collecting nvidia-cuda-nvrtc-cu12==12.4.127 (from torch)\n",
            "  Downloading nvidia_cuda_nvrtc_cu12-12.4.127-py3-none-manylinux2014_x86_64.whl.metadata (1.5 kB)\n",
            "Collecting nvidia-cuda-runtime-cu12==12.4.127 (from torch)\n",
            "  Downloading nvidia_cuda_runtime_cu12-12.4.127-py3-none-manylinux2014_x86_64.whl.metadata (1.5 kB)\n",
            "Collecting nvidia-cuda-cupti-cu12==12.4.127 (from torch)\n",
            "  Downloading nvidia_cuda_cupti_cu12-12.4.127-py3-none-manylinux2014_x86_64.whl.metadata (1.6 kB)\n",
            "Collecting nvidia-cudnn-cu12==9.1.0.70 (from torch)\n",
            "  Downloading nvidia_cudnn_cu12-9.1.0.70-py3-none-manylinux2014_x86_64.whl.metadata (1.6 kB)\n",
            "Collecting nvidia-cublas-cu12==12.4.5.8 (from torch)\n",
            "  Downloading nvidia_cublas_cu12-12.4.5.8-py3-none-manylinux2014_x86_64.whl.metadata (1.5 kB)\n",
            "Collecting nvidia-cufft-cu12==11.2.1.3 (from torch)\n",
            "  Downloading nvidia_cufft_cu12-11.2.1.3-py3-none-manylinux2014_x86_64.whl.metadata (1.5 kB)\n",
            "Collecting nvidia-curand-cu12==10.3.5.147 (from torch)\n",
            "  Downloading nvidia_curand_cu12-10.3.5.147-py3-none-manylinux2014_x86_64.whl.metadata (1.5 kB)\n",
            "Collecting nvidia-cusolver-cu12==11.6.1.9 (from torch)\n",
            "  Downloading nvidia_cusolver_cu12-11.6.1.9-py3-none-manylinux2014_x86_64.whl.metadata (1.6 kB)\n",
            "Collecting nvidia-cusparse-cu12==12.3.1.170 (from torch)\n",
            "  Downloading nvidia_cusparse_cu12-12.3.1.170-py3-none-manylinux2014_x86_64.whl.metadata (1.6 kB)\n",
            "Requirement already satisfied: nvidia-cusparselt-cu12==0.6.2 in /usr/local/lib/python3.11/dist-packages (from torch) (0.6.2)\n",
            "Requirement already satisfied: nvidia-nccl-cu12==2.21.5 in /usr/local/lib/python3.11/dist-packages (from torch) (2.21.5)\n",
            "Requirement already satisfied: nvidia-nvtx-cu12==12.4.127 in /usr/local/lib/python3.11/dist-packages (from torch) (12.4.127)\n",
            "Collecting nvidia-nvjitlink-cu12==12.4.127 (from torch)\n",
            "  Downloading nvidia_nvjitlink_cu12-12.4.127-py3-none-manylinux2014_x86_64.whl.metadata (1.5 kB)\n",
            "Requirement already satisfied: triton==3.2.0 in /usr/local/lib/python3.11/dist-packages (from torch) (3.2.0)\n",
            "Requirement already satisfied: sympy==1.13.1 in /usr/local/lib/python3.11/dist-packages (from torch) (1.13.1)\n",
            "Requirement already satisfied: mpmath<1.4,>=1.1.0 in /usr/local/lib/python3.11/dist-packages (from sympy==1.13.1->torch) (1.3.0)\n",
            "Requirement already satisfied: MarkupSafe>=2.0 in /usr/local/lib/python3.11/dist-packages (from jinja2->torch) (3.0.2)\n",
            "Downloading nvidia_cublas_cu12-12.4.5.8-py3-none-manylinux2014_x86_64.whl (363.4 MB)\n",
            "\u001b[2K   \u001b[90m━━━━━━━━━━━━━━━━━━━━━━━━━━━━━━━━━━━━━━━━\u001b[0m \u001b[32m363.4/363.4 MB\u001b[0m \u001b[31m2.8 MB/s\u001b[0m eta \u001b[36m0:00:00\u001b[0m\n",
            "\u001b[?25hDownloading nvidia_cuda_cupti_cu12-12.4.127-py3-none-manylinux2014_x86_64.whl (13.8 MB)\n",
            "\u001b[2K   \u001b[90m━━━━━━━━━━━━━━━━━━━━━━━━━━━━━━━━━━━━━━━━\u001b[0m \u001b[32m13.8/13.8 MB\u001b[0m \u001b[31m18.4 MB/s\u001b[0m eta \u001b[36m0:00:00\u001b[0m\n",
            "\u001b[?25hDownloading nvidia_cuda_nvrtc_cu12-12.4.127-py3-none-manylinux2014_x86_64.whl (24.6 MB)\n",
            "\u001b[2K   \u001b[90m━━━━━━━━━━━━━━━━━━━━━━━━━━━━━━━━━━━━━━━━\u001b[0m \u001b[32m24.6/24.6 MB\u001b[0m \u001b[31m51.3 MB/s\u001b[0m eta \u001b[36m0:00:00\u001b[0m\n",
            "\u001b[?25hDownloading nvidia_cuda_runtime_cu12-12.4.127-py3-none-manylinux2014_x86_64.whl (883 kB)\n",
            "\u001b[2K   \u001b[90m━━━━━━━━━━━━━━━━━━━━━━━━━━━━━━━━━━━━━━━━\u001b[0m \u001b[32m883.7/883.7 kB\u001b[0m \u001b[31m33.1 MB/s\u001b[0m eta \u001b[36m0:00:00\u001b[0m\n",
            "\u001b[?25hDownloading nvidia_cudnn_cu12-9.1.0.70-py3-none-manylinux2014_x86_64.whl (664.8 MB)\n",
            "\u001b[2K   \u001b[90m━━━━━━━━━━━━━━━━━━━━━━━━━━━━━━━━━━━━━━━━\u001b[0m \u001b[32m664.8/664.8 MB\u001b[0m \u001b[31m2.5 MB/s\u001b[0m eta \u001b[36m0:00:00\u001b[0m\n",
            "\u001b[?25hDownloading nvidia_cufft_cu12-11.2.1.3-py3-none-manylinux2014_x86_64.whl (211.5 MB)\n",
            "\u001b[2K   \u001b[90m━━━━━━━━━━━━━━━━━━━━━━━━━━━━━━━━━━━━━━━━\u001b[0m \u001b[32m211.5/211.5 MB\u001b[0m \u001b[31m5.2 MB/s\u001b[0m eta \u001b[36m0:00:00\u001b[0m\n",
            "\u001b[?25hDownloading nvidia_curand_cu12-10.3.5.147-py3-none-manylinux2014_x86_64.whl (56.3 MB)\n",
            "\u001b[2K   \u001b[90m━━━━━━━━━━━━━━━━━━━━━━━━━━━━━━━━━━━━━━━━\u001b[0m \u001b[32m56.3/56.3 MB\u001b[0m \u001b[31m27.4 MB/s\u001b[0m eta \u001b[36m0:00:00\u001b[0m\n",
            "\u001b[?25hDownloading nvidia_cusolver_cu12-11.6.1.9-py3-none-manylinux2014_x86_64.whl (127.9 MB)\n",
            "\u001b[2K   \u001b[90m━━━━━━━━━━━━━━━━━━━━━━━━━━━━━━━━━━━━━━━━\u001b[0m \u001b[32m127.9/127.9 MB\u001b[0m \u001b[31m7.7 MB/s\u001b[0m eta \u001b[36m0:00:00\u001b[0m\n",
            "\u001b[?25hDownloading nvidia_cusparse_cu12-12.3.1.170-py3-none-manylinux2014_x86_64.whl (207.5 MB)\n",
            "\u001b[2K   \u001b[90m━━━━━━━━━━━━━━━━━━━━━━━━━━━━━━━━━━━━━━━━\u001b[0m \u001b[32m207.5/207.5 MB\u001b[0m \u001b[31m6.0 MB/s\u001b[0m eta \u001b[36m0:00:00\u001b[0m\n",
            "\u001b[?25hDownloading nvidia_nvjitlink_cu12-12.4.127-py3-none-manylinux2014_x86_64.whl (21.1 MB)\n",
            "\u001b[2K   \u001b[90m━━━━━━━━━━━━━━━━━━━━━━━━━━━━━━━━━━━━━━━━\u001b[0m \u001b[32m21.1/21.1 MB\u001b[0m \u001b[31m65.2 MB/s\u001b[0m eta \u001b[36m0:00:00\u001b[0m\n",
            "\u001b[?25hInstalling collected packages: nvidia-nvjitlink-cu12, nvidia-curand-cu12, nvidia-cufft-cu12, nvidia-cuda-runtime-cu12, nvidia-cuda-nvrtc-cu12, nvidia-cuda-cupti-cu12, nvidia-cublas-cu12, nvidia-cusparse-cu12, nvidia-cudnn-cu12, nvidia-cusolver-cu12\n",
            "  Attempting uninstall: nvidia-nvjitlink-cu12\n",
            "    Found existing installation: nvidia-nvjitlink-cu12 12.5.82\n",
            "    Uninstalling nvidia-nvjitlink-cu12-12.5.82:\n",
            "      Successfully uninstalled nvidia-nvjitlink-cu12-12.5.82\n",
            "  Attempting uninstall: nvidia-curand-cu12\n",
            "    Found existing installation: nvidia-curand-cu12 10.3.6.82\n",
            "    Uninstalling nvidia-curand-cu12-10.3.6.82:\n",
            "      Successfully uninstalled nvidia-curand-cu12-10.3.6.82\n",
            "  Attempting uninstall: nvidia-cufft-cu12\n",
            "    Found existing installation: nvidia-cufft-cu12 11.2.3.61\n",
            "    Uninstalling nvidia-cufft-cu12-11.2.3.61:\n",
            "      Successfully uninstalled nvidia-cufft-cu12-11.2.3.61\n",
            "  Attempting uninstall: nvidia-cuda-runtime-cu12\n",
            "    Found existing installation: nvidia-cuda-runtime-cu12 12.5.82\n",
            "    Uninstalling nvidia-cuda-runtime-cu12-12.5.82:\n",
            "      Successfully uninstalled nvidia-cuda-runtime-cu12-12.5.82\n",
            "  Attempting uninstall: nvidia-cuda-nvrtc-cu12\n",
            "    Found existing installation: nvidia-cuda-nvrtc-cu12 12.5.82\n",
            "    Uninstalling nvidia-cuda-nvrtc-cu12-12.5.82:\n",
            "      Successfully uninstalled nvidia-cuda-nvrtc-cu12-12.5.82\n",
            "  Attempting uninstall: nvidia-cuda-cupti-cu12\n",
            "    Found existing installation: nvidia-cuda-cupti-cu12 12.5.82\n",
            "    Uninstalling nvidia-cuda-cupti-cu12-12.5.82:\n",
            "      Successfully uninstalled nvidia-cuda-cupti-cu12-12.5.82\n",
            "  Attempting uninstall: nvidia-cublas-cu12\n",
            "    Found existing installation: nvidia-cublas-cu12 12.5.3.2\n",
            "    Uninstalling nvidia-cublas-cu12-12.5.3.2:\n",
            "      Successfully uninstalled nvidia-cublas-cu12-12.5.3.2\n",
            "  Attempting uninstall: nvidia-cusparse-cu12\n",
            "    Found existing installation: nvidia-cusparse-cu12 12.5.1.3\n",
            "    Uninstalling nvidia-cusparse-cu12-12.5.1.3:\n",
            "      Successfully uninstalled nvidia-cusparse-cu12-12.5.1.3\n",
            "  Attempting uninstall: nvidia-cudnn-cu12\n",
            "    Found existing installation: nvidia-cudnn-cu12 9.3.0.75\n",
            "    Uninstalling nvidia-cudnn-cu12-9.3.0.75:\n",
            "      Successfully uninstalled nvidia-cudnn-cu12-9.3.0.75\n",
            "  Attempting uninstall: nvidia-cusolver-cu12\n",
            "    Found existing installation: nvidia-cusolver-cu12 11.6.3.83\n",
            "    Uninstalling nvidia-cusolver-cu12-11.6.3.83:\n",
            "      Successfully uninstalled nvidia-cusolver-cu12-11.6.3.83\n",
            "Successfully installed nvidia-cublas-cu12-12.4.5.8 nvidia-cuda-cupti-cu12-12.4.127 nvidia-cuda-nvrtc-cu12-12.4.127 nvidia-cuda-runtime-cu12-12.4.127 nvidia-cudnn-cu12-9.1.0.70 nvidia-cufft-cu12-11.2.1.3 nvidia-curand-cu12-10.3.5.147 nvidia-cusolver-cu12-11.6.1.9 nvidia-cusparse-cu12-12.3.1.170 nvidia-nvjitlink-cu12-12.4.127\n"
          ]
        }
      ],
      "source": [
        "pip install torch\n"
      ]
    },
    {
      "cell_type": "code",
      "source": [
        "import torch\n",
        "torch.cuda.is_available()"
      ],
      "metadata": {
        "colab": {
          "base_uri": "https://localhost:8080/"
        },
        "id": "g56SUFWZ2mZZ",
        "outputId": "d7e97f76-1d85-40b8-899b-5ec6917e4e36"
      },
      "execution_count": 3,
      "outputs": [
        {
          "output_type": "execute_result",
          "data": {
            "text/plain": [
              "True"
            ]
          },
          "metadata": {},
          "execution_count": 3
        }
      ]
    },
    {
      "cell_type": "code",
      "source": [
        "torch.cuda.current_device"
      ],
      "metadata": {
        "colab": {
          "base_uri": "https://localhost:8080/",
          "height": 121
        },
        "id": "XMZDm5u22tBF",
        "outputId": "a13ffedf-bfe6-48e4-8b1f-1d2f51ef7e1d"
      },
      "execution_count": 4,
      "outputs": [
        {
          "output_type": "execute_result",
          "data": {
            "text/plain": [
              "<function torch.cuda.current_device() -> int>"
            ],
            "text/html": [
              "<div style=\"max-width:800px; border: 1px solid var(--colab-border-color);\"><style>\n",
              "      pre.function-repr-contents {\n",
              "        overflow-x: auto;\n",
              "        padding: 8px 12px;\n",
              "        max-height: 500px;\n",
              "      }\n",
              "\n",
              "      pre.function-repr-contents.function-repr-contents-collapsed {\n",
              "        cursor: pointer;\n",
              "        max-height: 100px;\n",
              "      }\n",
              "    </style>\n",
              "    <pre style=\"white-space: initial; background:\n",
              "         var(--colab-secondary-surface-color); padding: 8px 12px;\n",
              "         border-bottom: 1px solid var(--colab-border-color);\"><b>torch.cuda.current_device</b><br/>def current_device() -&gt; int</pre><pre class=\"function-repr-contents function-repr-contents-collapsed\" style=\"\"><a class=\"filepath\" style=\"display:none\" href=\"#\">/usr/local/lib/python3.11/dist-packages/torch/cuda/__init__.py</a>Return the index of a currently selected device.</pre>\n",
              "      <script>\n",
              "      if (google.colab.kernel.accessAllowed && google.colab.files && google.colab.files.view) {\n",
              "        for (const element of document.querySelectorAll('.filepath')) {\n",
              "          element.style.display = 'block'\n",
              "          element.onclick = (event) => {\n",
              "            event.preventDefault();\n",
              "            event.stopPropagation();\n",
              "            google.colab.files.view(element.textContent, 969);\n",
              "          };\n",
              "        }\n",
              "      }\n",
              "      for (const element of document.querySelectorAll('.function-repr-contents')) {\n",
              "        element.onclick = (event) => {\n",
              "          event.preventDefault();\n",
              "          event.stopPropagation();\n",
              "          element.classList.toggle('function-repr-contents-collapsed');\n",
              "        };\n",
              "      }\n",
              "      </script>\n",
              "      </div>"
            ]
          },
          "metadata": {},
          "execution_count": 4
        }
      ]
    },
    {
      "cell_type": "code",
      "source": [
        "torch.cuda.get_device_name(0)\n"
      ],
      "metadata": {
        "colab": {
          "base_uri": "https://localhost:8080/",
          "height": 36
        },
        "id": "3PiVMp1Y3CT6",
        "outputId": "ac705bf0-c715-42f0-881e-a79ea4224f64"
      },
      "execution_count": 5,
      "outputs": [
        {
          "output_type": "execute_result",
          "data": {
            "text/plain": [
              "'Tesla T4'"
            ],
            "application/vnd.google.colaboratory.intrinsic+json": {
              "type": "string"
            }
          },
          "metadata": {},
          "execution_count": 5
        }
      ]
    },
    {
      "cell_type": "code",
      "source": [
        "import torch\n",
        "import numpy as np\n",
        "import pandas as pd\n",
        "import matplotlib.pyplot as plt\n",
        "#\n",
        "df = pd.read_csv('/content/Iris.csv')\n"
      ],
      "metadata": {
        "id": "2X9cdrxM4A0w"
      },
      "execution_count": 6,
      "outputs": []
    },
    {
      "cell_type": "code",
      "source": [
        "df = df.head()"
      ],
      "metadata": {
        "id": "aQud5cO872up"
      },
      "execution_count": 7,
      "outputs": []
    },
    {
      "cell_type": "code",
      "source": [
        "df.shape"
      ],
      "metadata": {
        "id": "yG83cVb85IkX",
        "colab": {
          "base_uri": "https://localhost:8080/"
        },
        "outputId": "f8c5cf97-afbc-44a3-8fc0-53d446700f04"
      },
      "execution_count": 8,
      "outputs": [
        {
          "output_type": "execute_result",
          "data": {
            "text/plain": [
              "(5, 6)"
            ]
          },
          "metadata": {},
          "execution_count": 8
        }
      ]
    },
    {
      "cell_type": "code",
      "source": [
        "from sklearn.preprocessing import LabelEncoder\n",
        "from sklearn.model_selection import train_test_split\n",
        "\n",
        "le = LabelEncoder()\n",
        "X = df.drop([\"Species\"], axis = 1 ).values\n",
        "y = le.fit_transform(df[\"Species\"].values)\n",
        "\n",
        "# chia dữ liệu với test size = 0.2\n",
        "X_train, X_test, y_train, y_test = train_test_split(X, y, test_size = 0.2, random_state= 42)\n",
        "\n",
        "X_train = torch.FloatTensor(X_train)\n",
        "x_test = torch.FloatTensor(X_test)\n",
        "y_train = torch.LongTensor(y_train).reshape(-1, 1)\n",
        "y_test = torch.LongTensor(y_test).reshape(-1, 1)\n",
        "\n",
        "print(f\"train size {len(y_train)}\")\n",
        "#"
      ],
      "metadata": {
        "id": "a3R258Wd5Ml3",
        "colab": {
          "base_uri": "https://localhost:8080/"
        },
        "outputId": "c24980ae-b563-4de6-9c6a-82e2b1a4527c"
      },
      "execution_count": 9,
      "outputs": [
        {
          "output_type": "stream",
          "name": "stdout",
          "text": [
            "train size 4\n"
          ]
        }
      ]
    },
    {
      "cell_type": "code",
      "source": [
        "import torch"
      ],
      "metadata": {
        "id": "co87DuXw8xW1"
      },
      "execution_count": 10,
      "outputs": []
    },
    {
      "cell_type": "code",
      "source": [
        "#tạo một tensor với requirments_grad được đặt thành true\n",
        "x = torch.tensor(2.0, requires_grad=True)\n",
        "print(x)\n",
        "print(x.grad)"
      ],
      "metadata": {
        "id": "QVhBJdK88zf3",
        "colab": {
          "base_uri": "https://localhost:8080/"
        },
        "outputId": "fc76948e-970c-4165-f5d6-4328998496b6"
      },
      "execution_count": 11,
      "outputs": [
        {
          "output_type": "stream",
          "name": "stdout",
          "text": [
            "tensor(2., requires_grad=True)\n",
            "None\n"
          ]
        }
      ]
    },
    {
      "cell_type": "code",
      "source": [
        "# Định nghĩa hàm\n",
        "y = 2*x**4 + x**3 + 3*x**2 + 5*x + 1\n",
        "print(y)"
      ],
      "metadata": {
        "id": "rUAUV8xA9MXO",
        "colab": {
          "base_uri": "https://localhost:8080/"
        },
        "outputId": "15308c9f-6f5f-4066-914b-de096bc470a9"
      },
      "execution_count": 12,
      "outputs": [
        {
          "output_type": "stream",
          "name": "stdout",
          "text": [
            "tensor(63., grad_fn=<AddBackward0>)\n"
          ]
        }
      ]
    },
    {
      "cell_type": "code",
      "source": [
        "y.grad_fn"
      ],
      "metadata": {
        "id": "AdD_muEF9b6s",
        "colab": {
          "base_uri": "https://localhost:8080/"
        },
        "outputId": "c562ab2c-d47f-4211-ed48-1cab8b02db0c"
      },
      "execution_count": 13,
      "outputs": [
        {
          "output_type": "execute_result",
          "data": {
            "text/plain": [
              "<AddBackward0 at 0x7b5f81b52620>"
            ]
          },
          "metadata": {},
          "execution_count": 13
        }
      ]
    },
    {
      "cell_type": "code",
      "source": [
        "# Thực hiện truyền ngược và tính toán các gradient\n",
        "y.backward()"
      ],
      "metadata": {
        "id": "9l044LJ89el4"
      },
      "execution_count": 14,
      "outputs": []
    },
    {
      "cell_type": "code",
      "source": [
        "# Kết quả đạo hàm\n",
        "x.grad"
      ],
      "metadata": {
        "id": "TyaBJZAs-tJu",
        "colab": {
          "base_uri": "https://localhost:8080/"
        },
        "outputId": "28cefe03-67fc-4dd1-eabc-6b5592c96d23"
      },
      "execution_count": 15,
      "outputs": [
        {
          "output_type": "execute_result",
          "data": {
            "text/plain": [
              "tensor(93.)"
            ]
          },
          "metadata": {},
          "execution_count": 15
        }
      ]
    },
    {
      "cell_type": "code",
      "source": [
        "# Bai tap\n",
        "# Cho y = 5x^6+3x^3+2x^1+x+2x+5x^4+1\n",
        "# Cho biết độ dốc của đa thức trên tại điểm nào\n"
      ],
      "metadata": {
        "id": "PB0euE87-y3o"
      },
      "execution_count": 16,
      "outputs": []
    },
    {
      "cell_type": "code",
      "source": [
        "import sympy as sp\n",
        "\n",
        "x = sp.symbols('x')\n",
        "y = 5*x**6 + 3*x**3 + 5*x**4 + 3*x + 1\n",
        "\n",
        "# Tính đạo hàm\n",
        "y_derivative = sp.diff(y, x)\n",
        "\n",
        "# Chọn điểm để tính độ dốc\n",
        "point = 1  # bạn có thể thay đổi giá trị này\n",
        "slope_at_point = y_derivative.subs(x, point)\n",
        "\n",
        "# In ra độ dốc tại điểm đã chọn\n",
        "print(f\"Độ dốc của đa thức tại x = {point} là: {slope_at_point}\")"
      ],
      "metadata": {
        "id": "y0kGRVDvJ__R",
        "colab": {
          "base_uri": "https://localhost:8080/"
        },
        "outputId": "962bd6ec-4976-423c-da7a-7e4fb76924b7"
      },
      "execution_count": 17,
      "outputs": [
        {
          "output_type": "stream",
          "name": "stdout",
          "text": [
            "Độ dốc của đa thức tại x = 1 là: 62\n"
          ]
        }
      ]
    },
    {
      "cell_type": "markdown",
      "source": [
        "BTVN 1:\n",
        "Tạo một tensor có giá trị ban đầu là 2.0.\n",
        "\n",
        "Định nghĩa hàm số và tính gradient\n",
        "\n",
        "y =  x^3 + 2x^2 + 5x + 1\n",
        "\n",
        "Hãy tính dy/dx tại giá trị của x\n",
        "\n",
        "Dùng phương pháp Gradient Descent với learning rate alpha = 0.1 để cập nhật giá trị x trong 10 vòng lặp\n"
      ],
      "metadata": {
        "id": "ZPFBrWwsBObb"
      }
    },
    {
      "cell_type": "code",
      "source": [
        "import torch\n",
        "\n",
        "x = torch.tensor(2.0, requires_grad=True)"
      ],
      "metadata": {
        "id": "boE893zkCIjo"
      },
      "execution_count": 18,
      "outputs": []
    },
    {
      "cell_type": "code",
      "source": [
        "y = x**3 + 2*x**2 + 5*x + 1\n",
        "print(y)"
      ],
      "metadata": {
        "id": "Qq68ywWmBqCD",
        "colab": {
          "base_uri": "https://localhost:8080/"
        },
        "outputId": "1880c6b5-b3fd-43e3-8d97-6dc9ef9fe9c4"
      },
      "execution_count": 19,
      "outputs": [
        {
          "output_type": "stream",
          "name": "stdout",
          "text": [
            "tensor(27., grad_fn=<AddBackward0>)\n"
          ]
        }
      ]
    },
    {
      "cell_type": "code",
      "source": [
        "y.backward()\n",
        "print(x.grad)"
      ],
      "metadata": {
        "id": "vgR83zMOCL73",
        "colab": {
          "base_uri": "https://localhost:8080/"
        },
        "outputId": "29e4369f-8ebd-4baa-fe74-28f26eaf90c9"
      },
      "execution_count": 20,
      "outputs": [
        {
          "output_type": "stream",
          "name": "stdout",
          "text": [
            "tensor(25.)\n"
          ]
        }
      ]
    },
    {
      "cell_type": "code",
      "source": [
        "alpha = 0.1  # Learning rate\n",
        "\n",
        "for i in range(10):\n",
        "    y = x**3 + 2*x**2 + 5*x + 1\n",
        "    y.backward()\n",
        "    with torch.no_grad():\n",
        "        x -= alpha * x.grad\n",
        "        x.grad.zero_()  # Reset gradient\n",
        "    print(f\"Lần lặp {i+1}: x = {x.item()}, y = {y.item()}\")"
      ],
      "metadata": {
        "id": "rXtFHp7GCmFe",
        "colab": {
          "base_uri": "https://localhost:8080/"
        },
        "outputId": "a491e24c-9438-4dbe-8ae7-9c18a851feba"
      },
      "execution_count": 21,
      "outputs": [
        {
          "output_type": "stream",
          "name": "stdout",
          "text": [
            "Lần lặp 1: x = -3.0, y = 27.0\n",
            "Lần lặp 2: x = -5.0, y = -23.0\n",
            "Lần lặp 3: x = -11.0, y = -99.0\n",
            "Lần lặp 4: x = -43.400001525878906, y = -1143.0\n",
            "Lần lặp 5: x = -591.6080932617188, y = -78195.3984375\n",
            "Lần lặp 6: x = -105355.5078125, y = -206365872.0\n",
            "Lần lặp 7: x = -3329998336.0, y = -1169401080446976.0\n",
            "Lần lặp 8: x = -3.32666671295837e+18, y = -3.692598275118773e+28\n",
            "Lần lặp 9: x = -3.3200133669524894e+36, y = -inf\n",
            "Lần lặp 10: x = -inf, y = nan\n"
          ]
        }
      ]
    },
    {
      "cell_type": "markdown",
      "source": [
        "BTVN 2:\n",
        "\n",
        "Tạo một tập dữ liệu giả lập với x là số giờ học( ngẫu nhiên từ 1 - 10) và y là số điểm được tính theo công thức y = 3x + 5 + noise\n",
        "\n",
        "Với noise là một giá trị ngẫu nhiên nhỏ\n",
        "\n",
        "1. Khởi tạo tham số w và b ngẫu nhiên với requires_grad=true\n",
        "\n",
        "2. tính MSE\n",
        "\n",
        "3. Tính gradient\n",
        "\n",
        "4. Cập nhật tham số w và b bằng gradient Descent với Learning alpha = 0.01\n",
        "\n",
        "5. Lặp lại quá trình trên trong 100 vòng lặp và quan sát sự hội tụ của mô hình\n"
      ],
      "metadata": {
        "id": "945CT1JTDkHh"
      }
    },
    {
      "cell_type": "code",
      "source": [
        "import torch\n",
        "import numpy as np\n",
        "import matplotlib.pyplot as plt\n",
        "\n",
        "# Tạo dữ liệu giả lập\n",
        "np.random.seed(42)\n",
        "n_samples = 100\n",
        "x = np.random.randint(1, 11, size=n_samples)\n",
        "true_w = 3\n",
        "true_b = 5\n",
        "noise = np.random.randn(n_samples) * 2\n",
        "y = true_w * x + true_b + noise\n",
        "\n"
      ],
      "metadata": {
        "id": "yhvswdq8EYSZ"
      },
      "execution_count": 36,
      "outputs": []
    },
    {
      "cell_type": "code",
      "source": [
        "w = torch.randn(1, requires_grad=True)\n",
        "b = torch.randn(1, requires_grad=True)"
      ],
      "metadata": {
        "id": "crSBm8y0E7Bp"
      },
      "execution_count": 37,
      "outputs": []
    },
    {
      "cell_type": "code",
      "source": [
        "# 2. Tính MSE\n",
        "def compute_mse(x, y, w, b):\n",
        "    # Convert x and y to PyTorch tensors\n",
        "    x = torch.tensor(x, dtype=torch.float32)\n",
        "    y = torch.tensor(y, dtype=torch.float32)\n",
        "    predictions = w * x + b\n",
        "    # Use detach().numpy() before calculating MSE\n",
        "    mse = np.mean((predictions.detach().numpy() - y.detach().numpy()) ** 2)\n",
        "    return mse\n"
      ],
      "metadata": {
        "id": "iD26nBvGE93j"
      },
      "execution_count": 58,
      "outputs": []
    },
    {
      "cell_type": "code",
      "source": [
        "# 3. Tính gradient\n",
        "def compute_gradients(x, y, w, b):\n",
        "    # Convert x and y to PyTorch tensors\n",
        "    x = torch.tensor(x, dtype=torch.float32) # Convert to float32\n",
        "    y = torch.tensor(y, dtype=torch.float32)\n",
        "\n",
        "    n = len(y)\n",
        "    predictions = w * x + b\n",
        "    dw = (2/n) * torch.dot(x, (predictions - y))  # Use torch.dot\n",
        "    db = (2/n) * torch.sum(predictions - y)     # Use torch.sum\n",
        "    return dw, db"
      ],
      "metadata": {
        "id": "m78QTm9CtSjm"
      },
      "execution_count": 59,
      "outputs": []
    },
    {
      "cell_type": "code",
      "source": [
        "# 4. Cập nhật tham số bằng Gradient Descent\n",
        "learning_rate = 0.01\n",
        "n_iterations = 100\n",
        "\n",
        "mse_values = []\n",
        "\n",
        "for _ in range(n_iterations):\n",
        "    mse = compute_mse(x, y, w, b)\n",
        "    mse_values.append(mse)\n",
        "    dw, db = compute_gradients(x, y, w, b)\n",
        "    # Update w and b using torch operations\n",
        "    with torch.no_grad():\n",
        "        w -= learning_rate * dw\n",
        "        b -= learning_rate * db"
      ],
      "metadata": {
        "id": "Pmus7GWSt_09"
      },
      "execution_count": 60,
      "outputs": []
    },
    {
      "cell_type": "code",
      "source": [
        "# 5. Vẽ biểu đồ MSE theo số vòng lặp\n",
        "plt.plot(mse_values)\n",
        "plt.title('MSE over iterations')\n",
        "plt.xlabel('Iterations')\n",
        "plt.ylabel('MSE')\n",
        "plt.show()"
      ],
      "metadata": {
        "colab": {
          "base_uri": "https://localhost:8080/",
          "height": 472
        },
        "id": "4yn5XMQUvBLK",
        "outputId": "ccaa4df6-8ea2-451e-cdfa-89da8a29c49a"
      },
      "execution_count": 61,
      "outputs": [
        {
          "output_type": "display_data",
          "data": {
            "text/plain": [
              "<Figure size 640x480 with 1 Axes>"
            ],
            "image/png": "[encoded data removed]"
          },
          "metadata": {}
        }
      ]
    }
  ]
}