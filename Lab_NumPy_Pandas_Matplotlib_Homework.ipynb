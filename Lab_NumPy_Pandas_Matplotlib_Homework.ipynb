{
 "cells": [
  {
   "cell_type": "markdown",
   "id": "3c01cc5b",
   "metadata": {},
   "source": [
    "# **LAB: Dữ liệu với NumPy, Pandas và Matplotlib**"
   ]
  },
  {
   "cell_type": "markdown",
   "id": "b43e5f00",
   "metadata": {},
   "source": [
    "\n",
    "### **Mục tiêu**\n",
    "- Làm quen với NumPy: Tạo mảng, thao tác cơ bản và nâng cao với mảng.\n",
    "- Thực hành xử lý dữ liệu với Pandas: Đọc, phân tích và làm sạch dữ liệu.\n",
    "- Trực quan hóa dữ liệu bằng Matplotlib: Biểu đồ cơ bản và nâng cao.\n"
   ]
  },
  {
   "cell_type": "markdown",
   "id": "4db747ee",
   "metadata": {},
   "source": [
    "## **Phần 1: NumPy cơ bản**"
   ]
  },
  {
   "cell_type": "markdown",
   "id": "dfebca02",
   "metadata": {},
   "source": [
    "### **Bài tập 1: Tạo mảng và thao tác cơ bản**\n",
    "\n",
    "1 Tạo một mảng NumPy với các giá trị từ 1 đến 20.\\\n",
    "2 Tìm tổng, giá trị lớn nhất, nhỏ nhất và trung bình của mảng.\\\n",
    "3 Tạo một mảng 2D (3x5) chứa các số ngẫu nhiên từ 0 đến 100.\\\n",
    "4 Lấy hàng thứ 2 và cột thứ 3 của mảng 2D."
   ]
  },
  {
   "cell_type": "code",
   "execution_count": 1,
   "id": "e8beb67f",
   "metadata": {},
   "outputs": [
    {
     "name": "stdout",
     "output_type": "stream",
     "text": [
      "Mảng từ 1 đến 20: [ 1  2  3  4  5  6  7  8  9 10 11 12 13 14 15 16 17 18 19 20]\n",
      "Tổng: 210\n",
      "Giá trị lớn nhất: 20\n",
      "Giá trị nhỏ nhất: 1\n",
      "Trung bình: 10.5\n",
      "Mảng 2D: [[ 51  34  41  76  33]\n",
      " [ 43  11  18  77   8]\n",
      " [ 39  36  82 100 100]]\n",
      "Hàng thứ 2: [43 11 18 77  8]\n",
      "Cột thứ 3: [41 18 82]\n"
     ]
    }
   ],
   "source": [
    "\n",
    "import numpy as np\n",
    "\n",
    "# 1. Tạo một mảng NumPy với các giá trị từ 1 đến 20\n",
    "array_1 = np.arange(1, 21)\n",
    "print(\"Mảng từ 1 đến 20:\", array_1)\n",
    "\n",
    "# 2. Tìm tổng, giá trị lớn nhất, nhỏ nhất và trung bình của mảng\n",
    "print(\"Tổng:\", array_1.sum())\n",
    "print(\"Giá trị lớn nhất:\", array_1.max())\n",
    "print(\"Giá trị nhỏ nhất:\", array_1.min())\n",
    "print(\"Trung bình:\", array_1.mean())\n",
    "\n",
    "#3. Tạo một mảng 2D (3x5) chứa các số ngẫu nhiên từ 0 đến 100\n",
    "array_2d = np.random.randint(0, 101, size=(3, 5))\n",
    "print(\"Mảng 2D:\", array_2d)\n",
    "\n",
    "# 4. Lấy hàng thứ 2 và cột thứ 3 của mảng 2D\n",
    "print(\"Hàng thứ 2:\", array_2d[1, :] )\n",
    "print(\"Cột thứ 3:\", array_2d[: , 2] )\n"
   ]
  },
  {
   "cell_type": "markdown",
   "id": "e04ed2c1",
   "metadata": {},
   "source": [
    "### **Bài tập 2: Các thao tác nâng cao**\n",
    "\n",
    "1 Tạo một mảng NumPy chứa 20 giá trị ngẫu nhiên từ 0 đến 1.\\\n",
    "2 Chuẩn hóa mảng này (đưa các giá trị về khoảng [0, 1]).\\\n",
    "3 Tính tích vô hướng (dot product) của hai mảng 1D: [1, 2, 3] và [4, 5,6].\\\n",
    "4 Tạo một ma trận 5x5 và tính định thức (determinant) và nghịch đảo của ma trận."
   ]
  },
  {
   "cell_type": "code",
   "execution_count": 2,
   "id": "8bfb4c61",
   "metadata": {},
   "outputs": [
    {
     "name": "stdout",
     "output_type": "stream",
     "text": [
      "Mảng ngẫu nhiên từ 0 đến 1: [0.52828219 0.90723714 0.38952803 0.20138419 0.34162372 0.21458889\n",
      " 0.0977786  0.32938545 0.26141462 0.97060366 0.99769395 0.26782719\n",
      " 0.73612659 0.1077907  0.41362285 0.40399418 0.83297765 0.830814\n",
      " 0.27848835 0.30655698]\n",
      "Mảng sau khi chuẩn hóa: [[0.52828219 0.90723714 0.38952803 0.20138419 0.34162372 0.21458889\n",
      "  0.0977786  0.32938545 0.26141462 0.97060366]\n",
      " [0.99769395 0.26782719 0.73612659 0.1077907  0.41362285 0.40399418\n",
      "  0.83297765 0.830814   0.27848835 0.30655698]]\n",
      "Tích vô hướng của a và b: 32\n",
      "Ma trận: [[0.47282757 0.59325325 0.57242859 0.47985287 0.57798167]\n",
      " [0.28573566 0.04748477 0.81027561 0.24892694 0.93281269]\n",
      " [0.27970198 0.80770766 0.24434152 0.29803972 0.38992834]\n",
      " [0.39145715 0.78221889 0.40550586 0.07445958 0.63594721]\n",
      " [0.41922988 0.83573901 0.8640257  0.68282841 0.86070625]]\n",
      "Định thức của ma trận: -0.0061446936330535615\n",
      "Ma trận nghịch đảo: [[  5.3081127   -0.15314072  -0.87966218   0.46114508  -3.34074363]\n",
      " [ -1.48609895  -1.55693031  -1.34046945   1.73949687   2.00732959]\n",
      " [ -1.17819664  -4.78645847 -11.67960807   5.71447988   7.04764004]\n",
      " [  1.07726961   1.96663246   5.64442472  -4.66601116  -1.96434747]\n",
      " [ -0.81436226   4.83107812   8.97678061  -3.94845934  -4.67650133]]\n"
     ]
    }
   ],
   "source": [
    "\n",
    "# 1. Tạo một mảng NumPy chứa 20 giá trị ngẫu nhiên từ 0 đến 1\n",
    "random_array = np.random.rand(20)\n",
    "print(\"Mảng ngẫu nhiên từ 0 đến 1:\", random_array)\n",
    "\n",
    "# 2. Chuẩn hóa mảng này (đưa các giá trị về khoảng [0, 1])\n",
    "normalized_array = random_array.reshape(2, 10)\n",
    "print(\"Mảng sau khi chuẩn hóa:\", normalized_array)\n",
    "\n",
    "# 3. Tính tích vô hướng (dot product) của hai mảng 1D\n",
    "a = np.array([1, 2, 3])\n",
    "b = np.array([4, 5, 6])\n",
    "dot_product = np.dot(a,b)\n",
    "print(\"Tích vô hướng của a và b:\", dot_product)\n",
    "\n",
    "# 4. Tạo một ma trận 5x5 và tính định thức, nghịch đảo\n",
    "matrix = np.random.rand(5, 5)\n",
    "print(\"Ma trận:\", matrix)\n",
    "determinant = np.linalg.det(matrix)\n",
    "print(\"Định thức của ma trận:\", determinant)\n",
    "if determinant != 0:\n",
    "    inverse_matrix = np.linalg.inv(matrix)\n",
    "    print(\"Ma trận nghịch đảo:\", inverse_matrix)\n",
    "else:\n",
    "    print(\"Ma trận không khả nghịch (định thức = 0).\")\n"
   ]
  },
  {
   "cell_type": "markdown",
   "id": "e33acf59",
   "metadata": {},
   "source": [
    "## **Phần 2: Pandas cơ bản**"
   ]
  },
  {
   "cell_type": "markdown",
   "id": "e2d7aa69",
   "metadata": {},
   "source": [
    "### **Bài tập 3: Làm quen với DataFrame**\n",
    "1 Tạo một DataFrame chứa thông tin sau:\n",
    "| Name    | Age | Score |\n",
    "|---------|-----|-------|\n",
    "| Alice   | 23  | 85    |\n",
    "| Bob     | 25  | 90    |\n",
    "| Charlie | 22  | 78    |\n",
    "| David   | 24  | 92    |\n",
    "| Eva     | 21  | 88    |\n",
    "\n",
    "2 Tính giá trị trung bình của cột \"Score\".\\\n",
    "3 Lọc các hàng có \"Score\" lớn hơn 85."
   ]
  },
  {
   "cell_type": "code",
   "execution_count": 3,
   "id": "e8617a8a",
   "metadata": {},
   "outputs": [
    {
     "name": "stdout",
     "output_type": "stream",
     "text": [
      "DataFrame:       Name  Age  Score\n",
      "0    Alice   23     85\n",
      "1      Bob   25     90\n",
      "2  Charlie   22     78\n",
      "3    David   24     92\n",
      "4      Eva   21     88\n",
      "86.6\n",
      "Các hàng có Score > 85:     Name  Age  Score\n",
      "1    Bob   25     90\n",
      "3  David   24     92\n",
      "4    Eva   21     88\n"
     ]
    }
   ],
   "source": [
    "\n",
    "import pandas as pd\n",
    "\n",
    "# 1. Tạo DataFrame\n",
    "data = {\n",
    "    \"Name\": [\"Alice\", \"Bob\", \"Charlie\", \"David\", \"Eva\"],\n",
    "    \"Age\": [23, 25, 22, 24, 21],\n",
    "    \"Score\": [85, 90, 78, 92, 88]\n",
    "}\n",
    "df = pd.DataFrame(data)\n",
    "print(\"DataFrame:\", df)\n",
    "\n",
    "# 2. Tính giá trị trung bình của cột \"Score\"\n",
    "print(df[\"Score\"].mean())\n",
    "\n",
    "# 3. Lọc các hàng có \"Score\" lớn hơn 85\n",
    "filtered_df = (df[df[\"Score\"]>85])\n",
    "print(\"Các hàng có Score > 85:\", filtered_df)\n"
   ]
  },
  {
   "cell_type": "markdown",
   "id": "b78fc398",
   "metadata": {},
   "source": [
    "### **Bài tập 4: Đọc và phân tích dữ liệu từ file**\n",
    "\n",
    "1 Tải file Iris.csv từ Kaggle Iris Dataset.\\\n",
    "2 Đọc dữ liệu từ file CSV vào DataFrame.\\\n",
    "3 Hiển thị thông tin cơ bản (tổng quan, kiểu dữ liệu, số lượng null).\\\n",
    "4 Tính trung bình, lớn nhất, nhỏ nhất của cột sepal_length."
   ]
  },
  {
   "cell_type": "code",
   "execution_count": 9,
   "id": "17bfadfa",
   "metadata": {},
   "outputs": [
    {
     "name": "stdout",
     "output_type": "stream",
     "text": [
      "5 dòng đầu tiên:\n",
      "   Id  SepalLengthCm  SepalWidthCm  PetalLengthCm  PetalWidthCm      Species\n",
      "0   1            5.1           3.5            1.4           0.2  Iris-setosa\n",
      "1   2            4.9           3.0            1.4           0.2  Iris-setosa\n",
      "2   3            4.7           3.2            1.3           0.2  Iris-setosa\n",
      "3   4            4.6           3.1            1.5           0.2  Iris-setosa\n",
      "4   5            5.0           3.6            1.4           0.2  Iris-setosa\n",
      "\n",
      "Thông tin chi tiết:\n",
      "<class 'pandas.core.frame.DataFrame'>\n",
      "RangeIndex: 150 entries, 0 to 149\n",
      "Data columns (total 6 columns):\n",
      " #   Column         Non-Null Count  Dtype  \n",
      "---  ------         --------------  -----  \n",
      " 0   Id             150 non-null    int64  \n",
      " 1   SepalLengthCm  150 non-null    float64\n",
      " 2   SepalWidthCm   150 non-null    float64\n",
      " 3   PetalLengthCm  150 non-null    float64\n",
      " 4   PetalWidthCm   150 non-null    float64\n",
      " 5   Species        150 non-null    object \n",
      "dtypes: float64(4), int64(1), object(1)\n",
      "memory usage: 7.2+ KB\n",
      "\n",
      "Thống kê mô tả:\n",
      "               Id  SepalLengthCm  SepalWidthCm  PetalLengthCm  PetalWidthCm\n",
      "count  150.000000     150.000000    150.000000     150.000000    150.000000\n",
      "mean    75.500000       5.843333      3.054000       3.758667      1.198667\n",
      "std     43.445368       0.828066      0.433594       1.764420      0.763161\n",
      "min      1.000000       4.300000      2.000000       1.000000      0.100000\n",
      "25%     38.250000       5.100000      2.800000       1.600000      0.300000\n",
      "50%     75.500000       5.800000      3.000000       4.350000      1.300000\n",
      "75%    112.750000       6.400000      3.300000       5.100000      1.800000\n",
      "max    150.000000       7.900000      4.400000       6.900000      2.500000\n",
      "\n",
      "Số lượng giá trị null:\n",
      "Id               0\n",
      "SepalLengthCm    0\n",
      "SepalWidthCm     0\n",
      "PetalLengthCm    0\n",
      "PetalWidthCm     0\n",
      "Species          0\n",
      "dtype: int64\n"
     ]
    }
   ],
   "source": [
    "import pandas as pd\n",
    "\n",
    "# Đọc dữ liệu từ file CSV\n",
    "df = pd.read_csv('Iris.csv')\n",
    "\n",
    "# Hiển thị thông tin cơ bản\n",
    "print(\"5 dòng đầu tiên:\")\n",
    "print(df.head())\n",
    "\n",
    "print(\"\\nThông tin chi tiết:\")\n",
    "df.info()\n",
    "\n",
    "print(\"\\nThống kê mô tả:\")\n",
    "print(df.describe()) \n",
    "\n",
    "print(\"\\nSố lượng giá trị null:\")\n",
    "print(df.isnull().sum())\n",
    "\n",
    "\n"
   ]
  },
  {
   "cell_type": "markdown",
   "id": "332f5c1f",
   "metadata": {},
   "source": [
    "## **Phần 3: Làm sạch dữ liệu**"
   ]
  },
  {
   "cell_type": "markdown",
   "id": "967ee936",
   "metadata": {},
   "source": [
    "### **Bài tập 5: Xử lý dữ liệu thiếu**\n",
    "1 Tạo một DataFrame chứa các giá trị sau:\n",
    "\n",
    "| Name    | Age | City     | Salary |\n",
    "|---------|-----|----------|--------|\n",
    "| Alice   | 23  | New York | 60000  |\n",
    "| Bob     | NaN | Boston   | 52000  |\n",
    "| Charlie | 25  | NaN      | NaN    |\n",
    "| David   | 24  | Chicago  | 58000  |\n",
    "| Eva     | 22  | Boston   | NaN    |\n",
    "\n",
    "2 Điền giá trị thiếu trong cột Age bằng giá trị trung bình.\\\n",
    "3 Xóa các hàng có nhiều hơn 1 giá trị thiếu.\\\n",
    "4 Điền giá trị thiếu trong cột Salary bằng 50000."
   ]
  },
  {
   "cell_type": "code",
   "execution_count": 11,
   "id": "e4582e08",
   "metadata": {},
   "outputs": [
    {
     "name": "stdout",
     "output_type": "stream",
     "text": [
      "DataFrame ban đầu:\n",
      "       Name   Age      City   Salary\n",
      "0    Alice  23.0  New York  60000.0\n",
      "1      Bob   NaN    Boston  52000.0\n",
      "2  Charlie  25.0       NaN      NaN\n",
      "3    David  24.0   Chicago  58000.0\n",
      "4      Eva  22.0    Boston      NaN\n",
      "\n",
      "DataFrame sau khi điền tuổi:\n",
      "       Name   Age      City   Salary\n",
      "0    Alice  23.0  New York  60000.0\n",
      "1      Bob  23.5    Boston  52000.0\n",
      "2  Charlie  25.0       NaN      NaN\n",
      "3    David  24.0   Chicago  58000.0\n",
      "4      Eva  22.0    Boston      NaN\n",
      "\n",
      "DataFrame sau khi xóa hàng:\n",
      "     Name   Age      City   Salary\n",
      "0  Alice  23.0  New York  60000.0\n",
      "1    Bob  23.5    Boston  52000.0\n",
      "3  David  24.0   Chicago  58000.0\n",
      "4    Eva  22.0    Boston      NaN\n",
      "\n",
      "DataFrame sau khi điền lương:\n",
      "     Name   Age      City   Salary\n",
      "0  Alice  23.0  New York  60000.0\n",
      "1    Bob  23.5    Boston  52000.0\n",
      "3  David  24.0   Chicago  58000.0\n",
      "4    Eva  22.0    Boston  50000.0\n"
     ]
    },
    {
     "name": "stderr",
     "output_type": "stream",
     "text": [
      "C:\\Users\\Admin\\AppData\\Local\\Temp\\ipykernel_24460\\2533029564.py:15: FutureWarning: A value is trying to be set on a copy of a DataFrame or Series through chained assignment using an inplace method.\n",
      "The behavior will change in pandas 3.0. This inplace method will never work because the intermediate object on which we are setting values always behaves as a copy.\n",
      "\n",
      "For example, when doing 'df[col].method(value, inplace=True)', try using 'df.method({col: value}, inplace=True)' or df[col] = df[col].method(value) instead, to perform the operation inplace on the original object.\n",
      "\n",
      "\n",
      "  df['Age'].fillna(mean_age, inplace=True)\n",
      "C:\\Users\\Admin\\AppData\\Local\\Temp\\ipykernel_24460\\2533029564.py:23: FutureWarning: A value is trying to be set on a copy of a DataFrame or Series through chained assignment using an inplace method.\n",
      "The behavior will change in pandas 3.0. This inplace method will never work because the intermediate object on which we are setting values always behaves as a copy.\n",
      "\n",
      "For example, when doing 'df[col].method(value, inplace=True)', try using 'df.method({col: value}, inplace=True)' or df[col] = df[col].method(value) instead, to perform the operation inplace on the original object.\n",
      "\n",
      "\n",
      "  df['Salary'].fillna(50000, inplace=True)\n"
     ]
    }
   ],
   "source": [
    "\n",
    "# Tạo DataFrame chứa dữ liệu thiếu\n",
    "import pandas as pd\n",
    "import numpy as np\n",
    "\n",
    "data = {'Name': ['Alice', 'Bob', 'Charlie', 'David', 'Eva'],\n",
    "        'Age': [23, np.nan, 25, 24, 22],\n",
    "        'City': ['New York', 'Boston', np.nan, 'Chicago', 'Boston'],\n",
    "        'Salary': [60000, 52000, np.nan, 58000, np.nan]}\n",
    "\n",
    "df = pd.DataFrame(data)\n",
    "print(\"DataFrame ban đầu:\\n\", df)\n",
    "\n",
    "# 1. Điền giá trị thiếu trong cột Age bằng giá trị trung bình\n",
    "mean_age = df['Age'].mean()\n",
    "df['Age'].fillna(mean_age, inplace=True)\n",
    "print(\"\\nDataFrame sau khi điền tuổi:\\n\", df)\n",
    "\n",
    "# 2. Xóa các hàng có nhiều hơn 1 giá trị thiếu\n",
    "df.dropna(thresh=3, inplace=True)\n",
    "print(\"\\nDataFrame sau khi xóa hàng:\\n\", df)\n",
    "\n",
    "# 3. Điền giá trị thiếu trong cột Salary bằng 50000\n",
    "df['Salary'].fillna(50000, inplace=True)\n",
    "print(\"\\nDataFrame sau khi điền lương:\\n\", df)\n"
   ]
  },
  {
   "cell_type": "markdown",
   "id": "b386c09b",
   "metadata": {},
   "source": [
    "## **Phần 4: Trực quan hóa dữ liệu với Matplotlib**"
   ]
  },
  {
   "cell_type": "markdown",
   "id": "badc99ed",
   "metadata": {},
   "source": [
    "### **Bài tập 6: Biểu đồ cơ bản**\n",
    "\n",
    "1 Tạo một biểu đồ đường biểu diễn hàm số y = x ** 2 trên khoảng [-10,10] \\\n",
    "2 Vẽ biểu đồ cột thể hiện điểm số (Score) của các sinh viên từ Bài tập 3.\\\n",
    "3 Tạo một biểu đồ tròn (pie chart) thể hiện phần trăm mỗi loại hoa trong tập dữ liệu Iris."
   ]
  },
  {
   "cell_type": "code",
   "execution_count": 12,
   "id": "2de20551",
   "metadata": {},
   "outputs": [
    {
     "data": {
      "image/png": "[encoded data removed]",
      "text/plain": [
       "<Figure size 640x480 with 1 Axes>"
      ]
     },
     "metadata": {},
     "output_type": "display_data"
    },
    {
     "data": {
      "image/png": "[encoded data removed]",
      "text/plain": [
       "<Figure size 640x480 with 1 Axes>"
      ]
     },
     "metadata": {},
     "output_type": "display_data"
    },
    {
     "data": {
      "image/png": "[encoded data removed]",
      "text/plain": [
       "<Figure size 640x480 with 1 Axes>"
      ]
     },
     "metadata": {},
     "output_type": "display_data"
    }
   ],
   "source": [
    "\n",
    "import matplotlib.pyplot as plt\n",
    "x = np.linspace(-10, 10, 100)  # Tạo 100 điểm dữ liệu từ -10 đến 10\n",
    "y = x**2  # Tính giá trị y tương ứng\n",
    "\n",
    "# 1. Biểu đồ đường hàm số y = x^2\n",
    "plt.plot(x, y)  # Vẽ đường thẳng từ các điểm (x, y)\n",
    "plt.xlabel('x')  # Đặt tên cho trục x\n",
    "plt.ylabel('y')  # Đặt tên cho trục y\n",
    "plt.title('Đồ thị hàm số y = x^2')  # Đặt tiêu đề cho đồ thị\n",
    "plt.grid(True)  # Hiển thị lưới trên đồ thị\n",
    "plt.show()  # Hiển thị đồ thị\n",
    "\n",
    "# 2. Biểu đồ cột điểm số\n",
    "students = ['Huy', 'Khang', 'Hưng', 'Hùng', 'Hải']\n",
    "scores = [75, 52, 68, 72, 93]\n",
    "plt.bar(students, scores)  # Vẽ biểu đồ cột\n",
    "plt.xlabel('Sinh viên')  # Đặt tên cho trục x\n",
    "plt.ylabel('Điểm số')  # Đặt tên cho trục y\n",
    "plt.title('Biểu đồ điểm số sinh viên')  # Đặt tiêu đề cho biểu đồ\n",
    "plt.show()  # Hiển thị biểu đồ\n",
    "# 3. Biểu đồ tròn thể hiện phần trăm mỗi loại hoa trong dữ liệu Iris\n",
    "labels = ['Setosa', 'Versicolor', 'Virginica']\n",
    "sizes = [33.3, 33.3, 33.3]  # Tỷ lệ phần trăm của mỗi loại hoa\n",
    "plt.pie(sizes, labels=labels, autopct='%1.1f%%')  # Vẽ biểu đồ tròn\n",
    "plt.title('Biểu đồ tỷ lệ các loại hoa Iris')  # Đặt tiêu đề cho biểu đồ\n",
    "plt.axis('equal')  # Làm cho biểu đồ tròn có hình tròn\n",
    "plt.show()  # Hiển thị biểu đồ"
   ]
  },
  {
   "cell_type": "markdown",
   "id": "2a472a75",
   "metadata": {},
   "source": [
    "### **Bài tập 7: Biểu đồ nâng cao**\n",
    "\n",
    "1 Vẽ biểu đồ phân tán (scatter plot) giữa sepal_length và sepal_width của tập dữ liệu Iris. Dùng màu sắc để phân biệt các loại hoa (species).\\\n",
    "2 Thêm tiêu đề, nhãn trục và chú thích cho biểu đồ."
   ]
  },
  {
   "cell_type": "code",
   "execution_count": null,
   "id": "003e508e",
   "metadata": {},
   "outputs": [
    {
     "name": "stderr",
     "output_type": "stream",
     "text": [
      "C:\\Users\\Admin\\AppData\\Local\\Temp\\ipykernel_2100\\300202096.py:24: UserWarning: No artists with labels found to put in legend.  Note that artists whose label start with an underscore are ignored when legend() is called with no argument.\n",
      "  plt.legend()\n"
     ]
    },
    {
     "data": {
      "image/png": "[encoded data removed]",
      "text/plain": [
       "<Figure size 800x600 with 1 Axes>"
      ]
     },
     "metadata": {},
     "output_type": "display_data"
    }
   ],
   "source": [
    "\n",
    "# 1. Biểu đồ phân tán với màu sắc theo loại hoa\n",
    "\n",
    "import matplotlib.pyplot as plt\n",
    "import pandas as pd\n",
    "\n",
    "# Đọc dữ liệu từ file CSV\n",
    "df = pd.read_csv('Iris.csv')\n",
    "\n",
    "# Tạo dictionary ánh xạ màu sắc cho mỗi loài hoa\n",
    "colors = {'setosa': 'red', 'versicolor': 'green', 'virginica': 'blue'}\n",
    "\n",
    "# Vẽ biểu đồ phân tán\n",
    "plt.figure(figsize=(8, 6))  # Điều chỉnh kích thước biểu đồ nếu cần\n",
    "for species, color in colors.items():\n",
    "    species_data = df[df['species'] == species]\n",
    "    plt.scatter(species_data['sepal_length'], species_data['sepal_width'], c=color, label=species)\n",
    "\n",
    "# Thêm tiêu đề\n",
    "plt.title('Biểu đồ phân tán giữa Sepal Length và Sepal Width')\n",
    "\n",
    "# Thêm nhãn trục\n",
    "plt.xlabel('Sepal Length (cm)')\n",
    "plt.ylabel('Sepal Width (cm)')\n",
    "\n",
    "# Thêm chú thích\n",
    "plt.legend()\n",
    "\n",
    "# Hiển thị biểu đồ\n",
    "plt.show()"
   ]
  }
 ],
 "metadata": {
  "kernelspec": {
   "display_name": "Python 3",
   "language": "python",
   "name": "python3"
  },
  "language_info": {
   "codemirror_mode": {
    "name": "ipython",
    "version": 3
   },
   "file_extension": ".py",
   "mimetype": "text/x-python",
   "name": "python",
   "nbconvert_exporter": "python",
   "pygments_lexer": "ipython3",
   "version": "3.10.11"
  }
 },
 "nbformat": 4,
 "nbformat_minor": 5
}
