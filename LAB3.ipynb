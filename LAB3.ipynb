{
 "cells": [
  {
   "cell_type": "markdown",
   "metadata": {},
   "source": [
    "1.Tạo dữ liệu"
   ]
  },
  {
   "cell_type": "code",
   "execution_count": 3,
   "metadata": {},
   "outputs": [
    {
     "name": "stdout",
     "output_type": "stream",
     "text": [
      "   id   name   age                email    salary\n",
      "0   1    Anh  15.0       anh@vlu.edu.vn       NaN\n",
      "1   2     Em  14.0         em@gmail.com   70000.0\n",
      "2   3  Phong  18.0  phong@vanlanguni.vn   10000.0\n",
      "3   4    Phú  27.0        phu@yahoo.com  250000.0\n",
      "4   5   None  50.0                 None   15000.0\n",
      "5   6   None   NaN                 None       NaN\n"
     ]
    }
   ],
   "source": [
    "import pandas as pd\n",
    "\n",
    "data = {\n",
    "    \"id\": [1, 2, 3, 4, 5, 6],\n",
    "    \"name\": [\"Anh\", \"Em\", \"Phong\", \"Phú\", None, None],  # Đã thêm None vào đây\n",
    "    \"age\": [15, 14, 18, 27, 50, None],  # Thêm None vào age để bằng độ dài\n",
    "    \"email\": [\"anh@vlu.edu.vn\", \"em@gmail.com\", \"phong@vanlanguni.vn\", \"phu@yahoo.com\", None, None], # Thêm None vào email để bằng độ dài\n",
    "    \"salary\": [None, 70000, 10000, 250000, 15000, None]  # Thêm None vào salary để bằng độ dài\n",
    "}\n",
    "\n",
    "df = pd.DataFrame(data)\n",
    "print(df)"
   ]
  },
  {
   "cell_type": "code",
   "execution_count": 4,
   "metadata": {},
   "outputs": [
    {
     "data": {
      "text/html": [
       "<div>\n",
       "<style scoped>\n",
       "    .dataframe tbody tr th:only-of-type {\n",
       "        vertical-align: middle;\n",
       "    }\n",
       "\n",
       "    .dataframe tbody tr th {\n",
       "        vertical-align: top;\n",
       "    }\n",
       "\n",
       "    .dataframe thead th {\n",
       "        text-align: right;\n",
       "    }\n",
       "</style>\n",
       "<table border=\"1\" class=\"dataframe\">\n",
       "  <thead>\n",
       "    <tr style=\"text-align: right;\">\n",
       "      <th></th>\n",
       "      <th>id</th>\n",
       "      <th>name</th>\n",
       "      <th>age</th>\n",
       "      <th>email</th>\n",
       "      <th>salary</th>\n",
       "    </tr>\n",
       "  </thead>\n",
       "  <tbody>\n",
       "    <tr>\n",
       "      <th>0</th>\n",
       "      <td>1</td>\n",
       "      <td>Anh</td>\n",
       "      <td>15.0</td>\n",
       "      <td>anh@vlu.edu.vn</td>\n",
       "      <td>NaN</td>\n",
       "    </tr>\n",
       "    <tr>\n",
       "      <th>1</th>\n",
       "      <td>2</td>\n",
       "      <td>Em</td>\n",
       "      <td>14.0</td>\n",
       "      <td>em@gmail.com</td>\n",
       "      <td>70000.0</td>\n",
       "    </tr>\n",
       "    <tr>\n",
       "      <th>2</th>\n",
       "      <td>3</td>\n",
       "      <td>Phong</td>\n",
       "      <td>18.0</td>\n",
       "      <td>phong@vanlanguni.vn</td>\n",
       "      <td>10000.0</td>\n",
       "    </tr>\n",
       "    <tr>\n",
       "      <th>3</th>\n",
       "      <td>4</td>\n",
       "      <td>Phú</td>\n",
       "      <td>27.0</td>\n",
       "      <td>phu@yahoo.com</td>\n",
       "      <td>250000.0</td>\n",
       "    </tr>\n",
       "    <tr>\n",
       "      <th>4</th>\n",
       "      <td>5</td>\n",
       "      <td>None</td>\n",
       "      <td>50.0</td>\n",
       "      <td>None</td>\n",
       "      <td>15000.0</td>\n",
       "    </tr>\n",
       "  </tbody>\n",
       "</table>\n",
       "</div>"
      ],
      "text/plain": [
       "   id   name   age                email    salary\n",
       "0   1    Anh  15.0       anh@vlu.edu.vn       NaN\n",
       "1   2     Em  14.0         em@gmail.com   70000.0\n",
       "2   3  Phong  18.0  phong@vanlanguni.vn   10000.0\n",
       "3   4    Phú  27.0        phu@yahoo.com  250000.0\n",
       "4   5   None  50.0                 None   15000.0"
      ]
     },
     "execution_count": 4,
     "metadata": {},
     "output_type": "execute_result"
    }
   ],
   "source": [
    "#Lấy ra 5 dòng đầu tiên\n",
    "\n",
    "df.head()"
   ]
  },
  {
   "cell_type": "code",
   "execution_count": 5,
   "metadata": {},
   "outputs": [
    {
     "data": {
      "text/plain": [
       "id        0\n",
       "name      2\n",
       "age       1\n",
       "email     2\n",
       "salary    2\n",
       "dtype: int64"
      ]
     },
     "execution_count": 5,
     "metadata": {},
     "output_type": "execute_result"
    }
   ],
   "source": [
    "# Kiểm tra dữ liệu thiếu\n",
    "df.isnull().sum()"
   ]
  },
  {
   "cell_type": "code",
   "execution_count": 6,
   "metadata": {},
   "outputs": [
    {
     "name": "stderr",
     "output_type": "stream",
     "text": [
      "C:\\Users\\Admin\\AppData\\Local\\Temp\\ipykernel_36724\\171931592.py:2: FutureWarning: A value is trying to be set on a copy of a DataFrame or Series through chained assignment using an inplace method.\n",
      "The behavior will change in pandas 3.0. This inplace method will never work because the intermediate object on which we are setting values always behaves as a copy.\n",
      "\n",
      "For example, when doing 'df[col].method(value, inplace=True)', try using 'df.method({col: value}, inplace=True)' or df[col] = df[col].method(value) instead, to perform the operation inplace on the original object.\n",
      "\n",
      "\n",
      "  df[\"salary\"].fillna(df[\"salary\"].mean(), inplace=True)\n"
     ]
    }
   ],
   "source": [
    "#Điền giá trị thiếu bằng giá trị\n",
    "df[\"salary\"].fillna(df[\"salary\"].mean(), inplace=True)"
   ]
  },
  {
   "cell_type": "code",
   "execution_count": 7,
   "metadata": {},
   "outputs": [
    {
     "name": "stderr",
     "output_type": "stream",
     "text": [
      "C:\\Users\\Admin\\AppData\\Local\\Temp\\ipykernel_36724\\4029455199.py:2: FutureWarning: A value is trying to be set on a copy of a DataFrame or Series through chained assignment using an inplace method.\n",
      "The behavior will change in pandas 3.0. This inplace method will never work because the intermediate object on which we are setting values always behaves as a copy.\n",
      "\n",
      "For example, when doing 'df[col].method(value, inplace=True)', try using 'df.method({col: value}, inplace=True)' or df[col] = df[col].method(value) instead, to perform the operation inplace on the original object.\n",
      "\n",
      "\n",
      "  df[\"name\"].fillna(\"Unknow\", inplace=True)\n",
      "C:\\Users\\Admin\\AppData\\Local\\Temp\\ipykernel_36724\\4029455199.py:3: FutureWarning: A value is trying to be set on a copy of a DataFrame or Series through chained assignment using an inplace method.\n",
      "The behavior will change in pandas 3.0. This inplace method will never work because the intermediate object on which we are setting values always behaves as a copy.\n",
      "\n",
      "For example, when doing 'df[col].method(value, inplace=True)', try using 'df.method({col: value}, inplace=True)' or df[col] = df[col].method(value) instead, to perform the operation inplace on the original object.\n",
      "\n",
      "\n",
      "  df[\"email\"].fillna(\"Unknow\", inplace=True)\n"
     ]
    }
   ],
   "source": [
    "#Điền giá trị thiếu bằng Unknor cho cột \"Name\" và cột \"email\"\n",
    "df[\"name\"].fillna(\"Unknow\", inplace=True)\n",
    "df[\"email\"].fillna(\"Unknow\", inplace=True)"
   ]
  },
  {
   "cell_type": "code",
   "execution_count": 8,
   "metadata": {},
   "outputs": [
    {
     "data": {
      "text/plain": [
       "id        0\n",
       "name      0\n",
       "age       1\n",
       "email     0\n",
       "salary    0\n",
       "dtype: int64"
      ]
     },
     "execution_count": 8,
     "metadata": {},
     "output_type": "execute_result"
    }
   ],
   "source": [
    "#Kiểm tra lại dữ liệu thiếu\n",
    "df.isnull().sum()"
   ]
  },
  {
   "cell_type": "code",
   "execution_count": 9,
   "metadata": {},
   "outputs": [
    {
     "data": {
      "text/html": [
       "<div>\n",
       "<style scoped>\n",
       "    .dataframe tbody tr th:only-of-type {\n",
       "        vertical-align: middle;\n",
       "    }\n",
       "\n",
       "    .dataframe tbody tr th {\n",
       "        vertical-align: top;\n",
       "    }\n",
       "\n",
       "    .dataframe thead th {\n",
       "        text-align: right;\n",
       "    }\n",
       "</style>\n",
       "<table border=\"1\" class=\"dataframe\">\n",
       "  <thead>\n",
       "    <tr style=\"text-align: right;\">\n",
       "      <th></th>\n",
       "      <th>id</th>\n",
       "      <th>name</th>\n",
       "      <th>age</th>\n",
       "      <th>email</th>\n",
       "      <th>salary</th>\n",
       "    </tr>\n",
       "  </thead>\n",
       "  <tbody>\n",
       "    <tr>\n",
       "      <th>0</th>\n",
       "      <td>1</td>\n",
       "      <td>Anh</td>\n",
       "      <td>15.0</td>\n",
       "      <td>anh@vlu.edu.vn</td>\n",
       "      <td>86250.0</td>\n",
       "    </tr>\n",
       "    <tr>\n",
       "      <th>1</th>\n",
       "      <td>2</td>\n",
       "      <td>Em</td>\n",
       "      <td>14.0</td>\n",
       "      <td>em@gmail.com</td>\n",
       "      <td>70000.0</td>\n",
       "    </tr>\n",
       "    <tr>\n",
       "      <th>2</th>\n",
       "      <td>3</td>\n",
       "      <td>Phong</td>\n",
       "      <td>18.0</td>\n",
       "      <td>phong@vanlanguni.vn</td>\n",
       "      <td>10000.0</td>\n",
       "    </tr>\n",
       "    <tr>\n",
       "      <th>3</th>\n",
       "      <td>4</td>\n",
       "      <td>Phú</td>\n",
       "      <td>27.0</td>\n",
       "      <td>phu@yahoo.com</td>\n",
       "      <td>250000.0</td>\n",
       "    </tr>\n",
       "    <tr>\n",
       "      <th>4</th>\n",
       "      <td>5</td>\n",
       "      <td>Unknow</td>\n",
       "      <td>50.0</td>\n",
       "      <td>Unknow</td>\n",
       "      <td>15000.0</td>\n",
       "    </tr>\n",
       "  </tbody>\n",
       "</table>\n",
       "</div>"
      ],
      "text/plain": [
       "   id    name   age                email    salary\n",
       "0   1     Anh  15.0       anh@vlu.edu.vn   86250.0\n",
       "1   2      Em  14.0         em@gmail.com   70000.0\n",
       "2   3   Phong  18.0  phong@vanlanguni.vn   10000.0\n",
       "3   4     Phú  27.0        phu@yahoo.com  250000.0\n",
       "4   5  Unknow  50.0               Unknow   15000.0"
      ]
     },
     "execution_count": 9,
     "metadata": {},
     "output_type": "execute_result"
    }
   ],
   "source": [
    "df.head()"
   ]
  },
  {
   "cell_type": "code",
   "execution_count": 10,
   "metadata": {},
   "outputs": [],
   "source": [
    "#Chuẩn hóa cột name bằng cách viết hoa chữ cái đầu\n",
    "df[\"name\"]= df[\"name\"].str.title()"
   ]
  },
  {
   "cell_type": "code",
   "execution_count": 11,
   "metadata": {},
   "outputs": [
    {
     "data": {
      "text/html": [
       "<div>\n",
       "<style scoped>\n",
       "    .dataframe tbody tr th:only-of-type {\n",
       "        vertical-align: middle;\n",
       "    }\n",
       "\n",
       "    .dataframe tbody tr th {\n",
       "        vertical-align: top;\n",
       "    }\n",
       "\n",
       "    .dataframe thead th {\n",
       "        text-align: right;\n",
       "    }\n",
       "</style>\n",
       "<table border=\"1\" class=\"dataframe\">\n",
       "  <thead>\n",
       "    <tr style=\"text-align: right;\">\n",
       "      <th></th>\n",
       "      <th>id</th>\n",
       "      <th>name</th>\n",
       "      <th>age</th>\n",
       "      <th>email</th>\n",
       "      <th>salary</th>\n",
       "    </tr>\n",
       "  </thead>\n",
       "  <tbody>\n",
       "    <tr>\n",
       "      <th>0</th>\n",
       "      <td>1</td>\n",
       "      <td>Anh</td>\n",
       "      <td>15.0</td>\n",
       "      <td>anh@vlu.edu.vn</td>\n",
       "      <td>86250.0</td>\n",
       "    </tr>\n",
       "    <tr>\n",
       "      <th>1</th>\n",
       "      <td>2</td>\n",
       "      <td>Em</td>\n",
       "      <td>14.0</td>\n",
       "      <td>em@gmail.com</td>\n",
       "      <td>70000.0</td>\n",
       "    </tr>\n",
       "    <tr>\n",
       "      <th>2</th>\n",
       "      <td>3</td>\n",
       "      <td>Phong</td>\n",
       "      <td>18.0</td>\n",
       "      <td>phong@vanlanguni.vn</td>\n",
       "      <td>10000.0</td>\n",
       "    </tr>\n",
       "    <tr>\n",
       "      <th>3</th>\n",
       "      <td>4</td>\n",
       "      <td>Phú</td>\n",
       "      <td>27.0</td>\n",
       "      <td>phu@yahoo.com</td>\n",
       "      <td>250000.0</td>\n",
       "    </tr>\n",
       "    <tr>\n",
       "      <th>4</th>\n",
       "      <td>5</td>\n",
       "      <td>Unknow</td>\n",
       "      <td>50.0</td>\n",
       "      <td>unknow</td>\n",
       "      <td>15000.0</td>\n",
       "    </tr>\n",
       "    <tr>\n",
       "      <th>5</th>\n",
       "      <td>6</td>\n",
       "      <td>Unknow</td>\n",
       "      <td>NaN</td>\n",
       "      <td>unknow</td>\n",
       "      <td>86250.0</td>\n",
       "    </tr>\n",
       "  </tbody>\n",
       "</table>\n",
       "</div>"
      ],
      "text/plain": [
       "   id    name   age                email    salary\n",
       "0   1     Anh  15.0       anh@vlu.edu.vn   86250.0\n",
       "1   2      Em  14.0         em@gmail.com   70000.0\n",
       "2   3   Phong  18.0  phong@vanlanguni.vn   10000.0\n",
       "3   4     Phú  27.0        phu@yahoo.com  250000.0\n",
       "4   5  Unknow  50.0               unknow   15000.0\n",
       "5   6  Unknow   NaN               unknow   86250.0"
      ]
     },
     "execution_count": 11,
     "metadata": {},
     "output_type": "execute_result"
    }
   ],
   "source": [
    "#Chuẩn hóa cột email bằng cách chuyển về chữ thường\n",
    "df[\"email\"]=df[\"email\"].str.lower()\n",
    "\n",
    "df"
   ]
  },
  {
   "cell_type": "code",
   "execution_count": 12,
   "metadata": {},
   "outputs": [],
   "source": [
    "#Lưu dữ liệu đã làm sạch\n",
    "df.to_csv(\"Dulieulamsach.csv\", index=False)\n"
   ]
  },
  {
   "cell_type": "markdown",
   "metadata": {},
   "source": [
    "# BÀI TẬP VỀ NHÀ\n"
   ]
  },
  {
   "cell_type": "markdown",
   "metadata": {},
   "source": [
    " \n",
    "### Cho dữ liệu dirty_data.csv\n",
    "1. Kiểm tra dữ liệu bị thiếu:\n",
    "    - Kiểm tra các cột nó dự liệu thiếu\n",
    "    - Điền giá trị phù hợp hoặc loại bỏ các hàng có quá nhiều dữ liệu thiếu\n",
    "2. Phát hiện và sửa lỗi dữ liệu bất thường:\n",
    "    - Tìm các giá trị bất thường trong cột tuổi có thể là âm hoặc quá lớn\n",
    "    - Kiểm tra cột thu nhập(incom) để phát triển dữ liệu bị sai\n",
    "3. Chuẩn hóa dạng dữ liệu\n",
    "    - Chuyển đổi cột ngày sinh về dạng chuẩn yyyy-mm-dd\n",
    "    - Chuẩn hóa dữ liệu trong cột giới tính(gender) để chỉ có 2 giới tính hợp lệ là \"Male\" và \"Female\"\n",
    "4. Xóa bỏ dữ liệu trùng lập\n",
    "    - Xác định và xóa các bản ghi trùng lặp dựa trên thông tin khách hàng\n",
    "5. Xuất dữ liệu sạch:\n",
    "    - Lưu tập dữ liệu đã làm sách thành tệp mới clean_data.csv"
   ]
  },
  {
   "cell_type": "code",
   "execution_count": 21,
   "metadata": {},
   "outputs": [
    {
     "name": "stdout",
     "output_type": "stream",
     "text": [
      "   Duration          Date  Pulse  Maxpulse  Calories\n",
      "0        60  '2020/12/01'    110       130     409.1\n",
      "1        60  '2020/12/02'    117       145     479.0\n",
      "2        60  '2020/12/03'    103       135     340.0\n",
      "3        45  '2020/12/04'    109       175     282.4\n",
      "4        45  '2020/12/05'    117       148     406.0\n",
      "Duration    0\n",
      "Date        1\n",
      "Pulse       0\n",
      "Maxpulse    0\n",
      "Calories    2\n",
      "dtype: int64\n"
     ]
    }
   ],
   "source": [
    "import pandas as pd\n",
    "\n",
    "df = pd.read_csv('dirtydata.csv')\n",
    "print(df.head())\n",
    "\n",
    "# Kiểm tra dữ liệu thiếu\n",
    "print(df.isnull().sum())\n"
   ]
  },
  {
   "cell_type": "code",
   "execution_count": null,
   "metadata": {},
   "outputs": [],
   "source": [
    "# 1. Kiểm tra và xử lý dữ liệu thiếu\n",
    "print(\"Số lượng dữ liệu thiếu ở mỗi cột:\")\n",
    "print(df.isnull().sum())\n",
    "\n",
    "# Điền giá trị thiếu bằng trung bình của cột tuổi\n",
    "df['tuổi'].fillna(df['tuổi'].mean(), inplace=True)\n",
    "\n",
    "# Loại bỏ các hàng có nhiều hơn 3 giá trị thiếu\n",
    "df.dropna(thresh=len(df.columns) - 3, inplace=True)\n",
    "\n",
    "# 2. Phát hiện và sửa lỗi dữ liệu bất thường\n",
    "print(\"\\nCác giá trị tuổi âm:\")\n",
    "print(df[df['tuổi'] < 0])\n",
    "\n",
    "print(\"\\nCác giá trị tuổi quá lớn:\")\n",
    "print(df[df['tuổi'] > 150])\n",
    "\n",
    "print(\"\\nCác giá trị thu nhập âm:\")\n",
    "print(df[df['thu nhập'] < 0])\n",
    "\n",
    "# 3. Chuẩn hóa dạng dữ liệu\n",
    "df['ngày sinh'] = pd.to_datetime(df['ngày sinh'], format='%Y-%m-%d')\n",
    "\n",
    "df['giới tính'] = df['giới tính'].str.strip().str.lower()\n",
    "df['giới tính'].replace({'male': 'Male', 'female': 'Female'}, inplace=True)\n",
    "\n",
    "# 4. Xóa bỏ dữ liệu trùng lặp\n",
    "print(\"\\nCác bản ghi trùng lặp:\")\n",
    "print(df[df.duplicated(subset=['tên', 'địa chỉ', ...], keep=False)])\n",
    "\n",
    "df.drop_duplicates(subset=['tên', 'địa chỉ', ...], keep='first', inplace=True)\n",
    "\n",
    "# 5. Xuất dữ liệu sạch\n",
    "df.to_csv('clean_data.csv', index=False)\n",
    "\n",
    "print(\"\\nĐã lưu dữ liệu sạch vào tệp clean_data.csv\")"
   ]
  }
 ],
 "metadata": {
  "kernelspec": {
   "display_name": "Python 3",
   "language": "python",
   "name": "python3"
  },
  "language_info": {
   "codemirror_mode": {
    "name": "ipython",
    "version": 3
   },
   "file_extension": ".py",
   "mimetype": "text/x-python",
   "name": "python",
   "nbconvert_exporter": "python",
   "pygments_lexer": "ipython3",
   "version": "3.10.11"
  }
 },
 "nbformat": 4,
 "nbformat_minor": 2
}
